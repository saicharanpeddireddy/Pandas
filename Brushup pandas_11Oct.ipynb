{
  "metadata": {
    "kernelspec": {
      "name": "python",
      "display_name": "Python (Pyodide)",
      "language": "python"
    },
    "language_info": {
      "codemirror_mode": {
        "name": "python",
        "version": 3
      },
      "file_extension": ".py",
      "mimetype": "text/x-python",
      "name": "python",
      "nbconvert_exporter": "python",
      "pygments_lexer": "ipython3",
      "version": "3.8"
    }
  },
  "nbformat_minor": 5,
  "nbformat": 4,
  "cells": [
    {
      "id": "f366979c-bdb7-449a-8e98-7eba5d4375a7",
      "cell_type": "code",
      "source": "import pandas as pd ",
      "metadata": {
        "trusted": true
      },
      "outputs": [],
      "execution_count": 1
    },
    {
      "id": "a86e0148-66d3-4650-b78f-8f4f6f95b0ca",
      "cell_type": "code",
      "source": "'''Series – like a column in Excel\n\nIt’s a single list of data with an index.\n'''\ndf= pd.Series([10,20,30,40])\nprint(df)\nprint(type(df))\ndf=pd.DataFrame(df)\nprint(df)\nprint(type(df))",
      "metadata": {
        "trusted": true
      },
      "outputs": [
        {
          "name": "stdout",
          "output_type": "stream",
          "text": "0    10\n1    20\n2    30\n3    40\ndtype: int64\n<class 'pandas.core.series.Series'>\n    0\n0  10\n1  20\n2  30\n3  40\n<class 'pandas.core.frame.DataFrame'>\n"
        }
      ],
      "execution_count": 2
    },
    {
      "id": "fdabd647-68b5-4679-8161-362469d3ec0a",
      "cell_type": "code",
      "source": "data ={ \n    'Name' : ['Alice', 'Bob', 'Charlie'],\n    'Age' : [ 25,30,35],\n    'City':['NY','LA','Chicago']\n}",
      "metadata": {
        "trusted": true
      },
      "outputs": [],
      "execution_count": 61
    },
    {
      "id": "2646fe2e-973a-4f04-a8cc-2cfb47303ccb",
      "cell_type": "code",
      "source": "print(type(data))\nprint(data)",
      "metadata": {
        "trusted": true
      },
      "outputs": [
        {
          "name": "stdout",
          "output_type": "stream",
          "text": "<class 'dict'>\n{'Name': ['Alice', 'Bob', 'Charlie'], 'Age': [25, 30, 35], 'City': ['NY', 'LA', 'Chicago']}\n"
        }
      ],
      "execution_count": 62
    },
    {
      "id": "b1641d02-4cf2-4984-9d4d-cd81dfe35929",
      "cell_type": "code",
      "source": "df=pd.DataFrame(data)\nprint(df)\nprint(type(df))",
      "metadata": {
        "trusted": true
      },
      "outputs": [
        {
          "name": "stdout",
          "output_type": "stream",
          "text": "      Name  Age     City\n0    Alice   25       NY\n1      Bob   30       LA\n2  Charlie   35  Chicago\n<class 'pandas.core.frame.DataFrame'>\n"
        }
      ],
      "execution_count": 63
    },
    {
      "id": "d5c3d886-f1bb-4b54-a7a8-9f34cc628fe5",
      "cell_type": "code",
      "source": "#series\ns=df['Name']\nprint(type(s)) #give series \ns=df[['Name']]\nprint(type(s)) # gives DataFrame\n",
      "metadata": {
        "trusted": true
      },
      "outputs": [
        {
          "name": "stdout",
          "output_type": "stream",
          "text": "<class 'pandas.core.series.Series'>\n<class 'pandas.core.frame.DataFrame'>\n"
        }
      ],
      "execution_count": 6
    },
    {
      "id": "f190ea5a-c798-4758-b78f-98d223298dc8",
      "cell_type": "code",
      "source": "df['Age']",
      "metadata": {
        "trusted": true
      },
      "outputs": [
        {
          "execution_count": 7,
          "output_type": "execute_result",
          "data": {
            "text/plain": "0    25\n1    30\n2    35\nName: Age, dtype: int64"
          },
          "metadata": {}
        }
      ],
      "execution_count": 7
    },
    {
      "id": "d4f251f4-c250-4a36-b5ef-98b90dfa99d9",
      "cell_type": "code",
      "source": "df[['Age','City']] ",
      "metadata": {
        "trusted": true
      },
      "outputs": [
        {
          "execution_count": 8,
          "output_type": "execute_result",
          "data": {
            "text/plain": "   Age     City\n0   25       NY\n1   30       LA\n2   35  Chicago",
            "text/html": "<div>\n<style scoped>\n    .dataframe tbody tr th:only-of-type {\n        vertical-align: middle;\n    }\n\n    .dataframe tbody tr th {\n        vertical-align: top;\n    }\n\n    .dataframe thead th {\n        text-align: right;\n    }\n</style>\n<table border=\"1\" class=\"dataframe\">\n  <thead>\n    <tr style=\"text-align: right;\">\n      <th></th>\n      <th>Age</th>\n      <th>City</th>\n    </tr>\n  </thead>\n  <tbody>\n    <tr>\n      <th>0</th>\n      <td>25</td>\n      <td>NY</td>\n    </tr>\n    <tr>\n      <th>1</th>\n      <td>30</td>\n      <td>LA</td>\n    </tr>\n    <tr>\n      <th>2</th>\n      <td>35</td>\n      <td>Chicago</td>\n    </tr>\n  </tbody>\n</table>\n</div>"
          },
          "metadata": {}
        }
      ],
      "execution_count": 8
    },
    {
      "id": "0615110a-f099-4a23-a1aa-bdbf87cc2018",
      "cell_type": "code",
      "source": "#Filter rows (like SQL WHERE):\ns=df['Age'] >28\n\nprint(df[s])\ns=pd.Series([False,False,True])\n\nprint(df[s])\n\ns=pd.Series([False,False,True,True])\nprint(df[s])",
      "metadata": {
        "trusted": true
      },
      "outputs": [
        {
          "name": "stdout",
          "output_type": "stream",
          "text": "      Name  Age     City\n1      Bob   30       LA\n2  Charlie   35  Chicago\n      Name  Age     City\n2  Charlie   35  Chicago\n"
        },
        {
          "name": "stderr",
          "output_type": "stream",
          "text": "<ipython-input-9-626f2f58cca9>:10: UserWarning: Boolean Series key will be reindexed to match DataFrame index.\n  print(df[s])\n"
        },
        {
          "name": "stdout",
          "output_type": "stream",
          "text": "      Name  Age     City\n2  Charlie   35  Chicago\n"
        }
      ],
      "execution_count": 9
    },
    {
      "id": "7a4cb7f5-636b-4fba-bf7b-b869fe4aa1d2",
      "cell_type": "code",
      "source": "df[df['Age']>28]",
      "metadata": {
        "trusted": true
      },
      "outputs": [
        {
          "execution_count": 10,
          "output_type": "execute_result",
          "data": {
            "text/plain": "      Name  Age     City\n1      Bob   30       LA\n2  Charlie   35  Chicago",
            "text/html": "<div>\n<style scoped>\n    .dataframe tbody tr th:only-of-type {\n        vertical-align: middle;\n    }\n\n    .dataframe tbody tr th {\n        vertical-align: top;\n    }\n\n    .dataframe thead th {\n        text-align: right;\n    }\n</style>\n<table border=\"1\" class=\"dataframe\">\n  <thead>\n    <tr style=\"text-align: right;\">\n      <th></th>\n      <th>Name</th>\n      <th>Age</th>\n      <th>City</th>\n    </tr>\n  </thead>\n  <tbody>\n    <tr>\n      <th>1</th>\n      <td>Bob</td>\n      <td>30</td>\n      <td>LA</td>\n    </tr>\n    <tr>\n      <th>2</th>\n      <td>Charlie</td>\n      <td>35</td>\n      <td>Chicago</td>\n    </tr>\n  </tbody>\n</table>\n</div>"
          },
          "metadata": {}
        }
      ],
      "execution_count": 10
    },
    {
      "id": "f87f0b96-e5ed-4043-ab67-c12c4c8cfef2",
      "cell_type": "code",
      "source": "df[df['Name']=='Bob']\ndf.loc[df['Name']!='Bob'] ",
      "metadata": {
        "trusted": true
      },
      "outputs": [
        {
          "execution_count": 11,
          "output_type": "execute_result",
          "data": {
            "text/plain": "      Name  Age     City\n0    Alice   25       NY\n2  Charlie   35  Chicago",
            "text/html": "<div>\n<style scoped>\n    .dataframe tbody tr th:only-of-type {\n        vertical-align: middle;\n    }\n\n    .dataframe tbody tr th {\n        vertical-align: top;\n    }\n\n    .dataframe thead th {\n        text-align: right;\n    }\n</style>\n<table border=\"1\" class=\"dataframe\">\n  <thead>\n    <tr style=\"text-align: right;\">\n      <th></th>\n      <th>Name</th>\n      <th>Age</th>\n      <th>City</th>\n    </tr>\n  </thead>\n  <tbody>\n    <tr>\n      <th>0</th>\n      <td>Alice</td>\n      <td>25</td>\n      <td>NY</td>\n    </tr>\n    <tr>\n      <th>2</th>\n      <td>Charlie</td>\n      <td>35</td>\n      <td>Chicago</td>\n    </tr>\n  </tbody>\n</table>\n</div>"
          },
          "metadata": {}
        }
      ],
      "execution_count": 11
    },
    {
      "id": "4c2273ce-8032-4cc9-9837-fad335fa1d43",
      "cell_type": "code",
      "source": "df.loc[(df['Name']!='Bob'),['Name','Age']]# For Loc - first value is filter , other values are column names",
      "metadata": {
        "trusted": true
      },
      "outputs": [
        {
          "execution_count": 12,
          "output_type": "execute_result",
          "data": {
            "text/plain": "      Name  Age\n0    Alice   25\n2  Charlie   35",
            "text/html": "<div>\n<style scoped>\n    .dataframe tbody tr th:only-of-type {\n        vertical-align: middle;\n    }\n\n    .dataframe tbody tr th {\n        vertical-align: top;\n    }\n\n    .dataframe thead th {\n        text-align: right;\n    }\n</style>\n<table border=\"1\" class=\"dataframe\">\n  <thead>\n    <tr style=\"text-align: right;\">\n      <th></th>\n      <th>Name</th>\n      <th>Age</th>\n    </tr>\n  </thead>\n  <tbody>\n    <tr>\n      <th>0</th>\n      <td>Alice</td>\n      <td>25</td>\n    </tr>\n    <tr>\n      <th>2</th>\n      <td>Charlie</td>\n      <td>35</td>\n    </tr>\n  </tbody>\n</table>\n</div>"
          },
          "metadata": {}
        }
      ],
      "execution_count": 12
    },
    {
      "id": "2bff5a52-9807-4895-a43b-66638cb78f16",
      "cell_type": "code",
      "source": "#multiple conditon  -with logical operators (&,|,~)\n\ndf\n\ndf[ ~(df['Name']=='Bob') & (df['Age']<=30) |(df['City']=='Ny')]",
      "metadata": {
        "trusted": true
      },
      "outputs": [
        {
          "execution_count": 13,
          "output_type": "execute_result",
          "data": {
            "text/plain": "    Name  Age City\n0  Alice   25   NY",
            "text/html": "<div>\n<style scoped>\n    .dataframe tbody tr th:only-of-type {\n        vertical-align: middle;\n    }\n\n    .dataframe tbody tr th {\n        vertical-align: top;\n    }\n\n    .dataframe thead th {\n        text-align: right;\n    }\n</style>\n<table border=\"1\" class=\"dataframe\">\n  <thead>\n    <tr style=\"text-align: right;\">\n      <th></th>\n      <th>Name</th>\n      <th>Age</th>\n      <th>City</th>\n    </tr>\n  </thead>\n  <tbody>\n    <tr>\n      <th>0</th>\n      <td>Alice</td>\n      <td>25</td>\n      <td>NY</td>\n    </tr>\n  </tbody>\n</table>\n</div>"
          },
          "metadata": {}
        }
      ],
      "execution_count": 13
    },
    {
      "id": "ea043547-3af6-49ed-8628-29eb59efae51",
      "cell_type": "code",
      "source": "age_filter= [20,23,24,25,30]\ndf_Filter=df[df['Age'].isin(age_filter)]\ncity=['TX','LA','NY']\ndf_Filter2=df_Filter[df_Filter['City'].isin(city)]\ndf_Filter2",
      "metadata": {
        "trusted": true
      },
      "outputs": [
        {
          "execution_count": 14,
          "output_type": "execute_result",
          "data": {
            "text/plain": "    Name  Age City\n0  Alice   25   NY\n1    Bob   30   LA",
            "text/html": "<div>\n<style scoped>\n    .dataframe tbody tr th:only-of-type {\n        vertical-align: middle;\n    }\n\n    .dataframe tbody tr th {\n        vertical-align: top;\n    }\n\n    .dataframe thead th {\n        text-align: right;\n    }\n</style>\n<table border=\"1\" class=\"dataframe\">\n  <thead>\n    <tr style=\"text-align: right;\">\n      <th></th>\n      <th>Name</th>\n      <th>Age</th>\n      <th>City</th>\n    </tr>\n  </thead>\n  <tbody>\n    <tr>\n      <th>0</th>\n      <td>Alice</td>\n      <td>25</td>\n      <td>NY</td>\n    </tr>\n    <tr>\n      <th>1</th>\n      <td>Bob</td>\n      <td>30</td>\n      <td>LA</td>\n    </tr>\n  </tbody>\n</table>\n</div>"
          },
          "metadata": {}
        }
      ],
      "execution_count": 14
    },
    {
      "id": "1f686441-0eb7-469f-9aa2-b6ed0e4979b6",
      "cell_type": "code",
      "source": "df['Age'] ",
      "metadata": {
        "trusted": true
      },
      "outputs": [
        {
          "execution_count": 15,
          "output_type": "execute_result",
          "data": {
            "text/plain": "0    25\n1    30\n2    35\nName: Age, dtype: int64"
          },
          "metadata": {}
        }
      ],
      "execution_count": 15
    },
    {
      "id": "9541b969-7dcc-4d88-b12d-2acc7056eb5f",
      "cell_type": "code",
      "source": "",
      "metadata": {
        "trusted": true
      },
      "outputs": [],
      "execution_count": null
    },
    {
      "id": "5b7f21da-20e7-4afc-8ca3-da06efc3b2b5",
      "cell_type": "code",
      "source": "#df.loc[<row_condition>, <columns_to_return>].sort_values(by=<column>, ascending=<True/False>)\n",
      "metadata": {
        "trusted": true
      },
      "outputs": [],
      "execution_count": 16
    },
    {
      "id": "e28b65dc-f949-4407-ab03-d0e853aaf847",
      "cell_type": "code",
      "source": "df.loc[~(df['Name']=='Bob'),['Name','Age']].sort_values(by='Age',ascending= False)",
      "metadata": {
        "trusted": true
      },
      "outputs": [
        {
          "execution_count": 17,
          "output_type": "execute_result",
          "data": {
            "text/plain": "      Name  Age\n2  Charlie   35\n0    Alice   25",
            "text/html": "<div>\n<style scoped>\n    .dataframe tbody tr th:only-of-type {\n        vertical-align: middle;\n    }\n\n    .dataframe tbody tr th {\n        vertical-align: top;\n    }\n\n    .dataframe thead th {\n        text-align: right;\n    }\n</style>\n<table border=\"1\" class=\"dataframe\">\n  <thead>\n    <tr style=\"text-align: right;\">\n      <th></th>\n      <th>Name</th>\n      <th>Age</th>\n    </tr>\n  </thead>\n  <tbody>\n    <tr>\n      <th>2</th>\n      <td>Charlie</td>\n      <td>35</td>\n    </tr>\n    <tr>\n      <th>0</th>\n      <td>Alice</td>\n      <td>25</td>\n    </tr>\n  </tbody>\n</table>\n</div>"
          },
          "metadata": {}
        }
      ],
      "execution_count": 17
    },
    {
      "id": "c5d912c4-25be-4fcf-97ce-3503133223d1",
      "cell_type": "code",
      "source": "df.iloc[0,[1,2]]",
      "metadata": {
        "trusted": true
      },
      "outputs": [
        {
          "execution_count": 18,
          "output_type": "execute_result",
          "data": {
            "text/plain": "Age     25\nCity    NY\nName: 0, dtype: object"
          },
          "metadata": {}
        }
      ],
      "execution_count": 18
    },
    {
      "id": "b4fb9672-318a-4271-b373-c6d87e72921e",
      "cell_type": "code",
      "source": "df",
      "metadata": {
        "trusted": true
      },
      "outputs": [
        {
          "execution_count": 19,
          "output_type": "execute_result",
          "data": {
            "text/plain": "      Name  Age     City\n0    Alice   25       NY\n1      Bob   30       LA\n2  Charlie   35  Chicago",
            "text/html": "<div>\n<style scoped>\n    .dataframe tbody tr th:only-of-type {\n        vertical-align: middle;\n    }\n\n    .dataframe tbody tr th {\n        vertical-align: top;\n    }\n\n    .dataframe thead th {\n        text-align: right;\n    }\n</style>\n<table border=\"1\" class=\"dataframe\">\n  <thead>\n    <tr style=\"text-align: right;\">\n      <th></th>\n      <th>Name</th>\n      <th>Age</th>\n      <th>City</th>\n    </tr>\n  </thead>\n  <tbody>\n    <tr>\n      <th>0</th>\n      <td>Alice</td>\n      <td>25</td>\n      <td>NY</td>\n    </tr>\n    <tr>\n      <th>1</th>\n      <td>Bob</td>\n      <td>30</td>\n      <td>LA</td>\n    </tr>\n    <tr>\n      <th>2</th>\n      <td>Charlie</td>\n      <td>35</td>\n      <td>Chicago</td>\n    </tr>\n  </tbody>\n</table>\n</div>"
          },
          "metadata": {}
        }
      ],
      "execution_count": 19
    },
    {
      "id": "26f9b3f3-2c63-4b85-9ede-6cab0f1601f9",
      "cell_type": "code",
      "source": "df.loc[[0,1], ['Name','Age']]",
      "metadata": {
        "trusted": true
      },
      "outputs": [
        {
          "execution_count": 20,
          "output_type": "execute_result",
          "data": {
            "text/plain": "    Name  Age\n0  Alice   25\n1    Bob   30",
            "text/html": "<div>\n<style scoped>\n    .dataframe tbody tr th:only-of-type {\n        vertical-align: middle;\n    }\n\n    .dataframe tbody tr th {\n        vertical-align: top;\n    }\n\n    .dataframe thead th {\n        text-align: right;\n    }\n</style>\n<table border=\"1\" class=\"dataframe\">\n  <thead>\n    <tr style=\"text-align: right;\">\n      <th></th>\n      <th>Name</th>\n      <th>Age</th>\n    </tr>\n  </thead>\n  <tbody>\n    <tr>\n      <th>0</th>\n      <td>Alice</td>\n      <td>25</td>\n    </tr>\n    <tr>\n      <th>1</th>\n      <td>Bob</td>\n      <td>30</td>\n    </tr>\n  </tbody>\n</table>\n</div>"
          },
          "metadata": {}
        }
      ],
      "execution_count": 20
    },
    {
      "id": "a6b97998-07e8-4753-a63b-872f2bd93b94",
      "cell_type": "code",
      "source": "df.loc[:, ['Name','Age']]",
      "metadata": {
        "trusted": true
      },
      "outputs": [
        {
          "execution_count": 21,
          "output_type": "execute_result",
          "data": {
            "text/plain": "      Name  Age\n0    Alice   25\n1      Bob   30\n2  Charlie   35",
            "text/html": "<div>\n<style scoped>\n    .dataframe tbody tr th:only-of-type {\n        vertical-align: middle;\n    }\n\n    .dataframe tbody tr th {\n        vertical-align: top;\n    }\n\n    .dataframe thead th {\n        text-align: right;\n    }\n</style>\n<table border=\"1\" class=\"dataframe\">\n  <thead>\n    <tr style=\"text-align: right;\">\n      <th></th>\n      <th>Name</th>\n      <th>Age</th>\n    </tr>\n  </thead>\n  <tbody>\n    <tr>\n      <th>0</th>\n      <td>Alice</td>\n      <td>25</td>\n    </tr>\n    <tr>\n      <th>1</th>\n      <td>Bob</td>\n      <td>30</td>\n    </tr>\n    <tr>\n      <th>2</th>\n      <td>Charlie</td>\n      <td>35</td>\n    </tr>\n  </tbody>\n</table>\n</div>"
          },
          "metadata": {}
        }
      ],
      "execution_count": 21
    },
    {
      "id": "726baaf9-57f3-4a57-bbc0-88646d82be6b",
      "cell_type": "code",
      "source": "df.loc[0:2,['Name','City']]\ndf.iloc[:,0:2]\n",
      "metadata": {
        "trusted": true
      },
      "outputs": [
        {
          "execution_count": 22,
          "output_type": "execute_result",
          "data": {
            "text/plain": "      Name  Age\n0    Alice   25\n1      Bob   30\n2  Charlie   35",
            "text/html": "<div>\n<style scoped>\n    .dataframe tbody tr th:only-of-type {\n        vertical-align: middle;\n    }\n\n    .dataframe tbody tr th {\n        vertical-align: top;\n    }\n\n    .dataframe thead th {\n        text-align: right;\n    }\n</style>\n<table border=\"1\" class=\"dataframe\">\n  <thead>\n    <tr style=\"text-align: right;\">\n      <th></th>\n      <th>Name</th>\n      <th>Age</th>\n    </tr>\n  </thead>\n  <tbody>\n    <tr>\n      <th>0</th>\n      <td>Alice</td>\n      <td>25</td>\n    </tr>\n    <tr>\n      <th>1</th>\n      <td>Bob</td>\n      <td>30</td>\n    </tr>\n    <tr>\n      <th>2</th>\n      <td>Charlie</td>\n      <td>35</td>\n    </tr>\n  </tbody>\n</table>\n</div>"
          },
          "metadata": {}
        }
      ],
      "execution_count": 22
    },
    {
      "id": "87370cdd-3bf4-4538-b951-317e3c2e3808",
      "cell_type": "code",
      "source": "df.columns",
      "metadata": {
        "trusted": true
      },
      "outputs": [
        {
          "execution_count": 23,
          "output_type": "execute_result",
          "data": {
            "text/plain": "Index(['Name', 'Age', 'City'], dtype='object')"
          },
          "metadata": {}
        }
      ],
      "execution_count": 23
    },
    {
      "id": "0c426802-6209-4ec6-93eb-c96e7f43fe14",
      "cell_type": "code",
      "source": "df.shape",
      "metadata": {
        "trusted": true
      },
      "outputs": [
        {
          "execution_count": 24,
          "output_type": "execute_result",
          "data": {
            "text/plain": "(3, 3)"
          },
          "metadata": {}
        }
      ],
      "execution_count": 24
    },
    {
      "id": "7348604d-55f6-4ca8-ba7a-1324946015c6",
      "cell_type": "code",
      "source": "df['Age'].value_counts()",
      "metadata": {
        "trusted": true
      },
      "outputs": [
        {
          "execution_count": 25,
          "output_type": "execute_result",
          "data": {
            "text/plain": "Age\n25    1\n30    1\n35    1\nName: count, dtype: int64"
          },
          "metadata": {}
        }
      ],
      "execution_count": 25
    },
    {
      "id": "5d10876c-1d62-4ed9-a2e6-ea8777838d08",
      "cell_type": "code",
      "source": "df.index.is_unique",
      "metadata": {
        "trusted": true
      },
      "outputs": [
        {
          "execution_count": 26,
          "output_type": "execute_result",
          "data": {
            "text/plain": "True"
          },
          "metadata": {}
        }
      ],
      "execution_count": 26
    },
    {
      "id": "db16fc3f-96d2-4587-ba34-538b80747a07",
      "cell_type": "code",
      "source": "df.index",
      "metadata": {
        "trusted": true
      },
      "outputs": [
        {
          "execution_count": 27,
          "output_type": "execute_result",
          "data": {
            "text/plain": "RangeIndex(start=0, stop=3, step=1)"
          },
          "metadata": {}
        }
      ],
      "execution_count": 27
    },
    {
      "id": "5e79a9fd-e853-40b3-9262-f1e42395c5c0",
      "cell_type": "code",
      "source": "df['Email']=[ 'sai@gmail.com','sai@gmail.com','Charan@gmail.com']",
      "metadata": {
        "trusted": true
      },
      "outputs": [],
      "execution_count": 66
    },
    {
      "id": "ace4608d-9fb5-40f0-8350-9979758b4799",
      "cell_type": "code",
      "source": "df",
      "metadata": {
        "trusted": true
      },
      "outputs": [
        {
          "execution_count": 29,
          "output_type": "execute_result",
          "data": {
            "text/plain": "      Name  Age     City             Email\n0    Alice   25       NY     sai@gmail.com\n1      Bob   30       LA     sai@gmail.com\n2  Charlie   35  Chicago  Charan@gmail.com",
            "text/html": "<div>\n<style scoped>\n    .dataframe tbody tr th:only-of-type {\n        vertical-align: middle;\n    }\n\n    .dataframe tbody tr th {\n        vertical-align: top;\n    }\n\n    .dataframe thead th {\n        text-align: right;\n    }\n</style>\n<table border=\"1\" class=\"dataframe\">\n  <thead>\n    <tr style=\"text-align: right;\">\n      <th></th>\n      <th>Name</th>\n      <th>Age</th>\n      <th>City</th>\n      <th>Email</th>\n    </tr>\n  </thead>\n  <tbody>\n    <tr>\n      <th>0</th>\n      <td>Alice</td>\n      <td>25</td>\n      <td>NY</td>\n      <td>sai@gmail.com</td>\n    </tr>\n    <tr>\n      <th>1</th>\n      <td>Bob</td>\n      <td>30</td>\n      <td>LA</td>\n      <td>sai@gmail.com</td>\n    </tr>\n    <tr>\n      <th>2</th>\n      <td>Charlie</td>\n      <td>35</td>\n      <td>Chicago</td>\n      <td>Charan@gmail.com</td>\n    </tr>\n  </tbody>\n</table>\n</div>"
          },
          "metadata": {}
        }
      ],
      "execution_count": 29
    },
    {
      "id": "9fdafa57-375c-46f8-b020-6cdc06c49538",
      "cell_type": "code",
      "source": "df.set_index('Email',inplace=True)",
      "metadata": {
        "trusted": true
      },
      "outputs": [],
      "execution_count": 30
    },
    {
      "id": "b440d09b-0975-484d-88fa-3f76e429e4c8",
      "cell_type": "code",
      "source": "df.index",
      "metadata": {
        "trusted": true
      },
      "outputs": [
        {
          "execution_count": 31,
          "output_type": "execute_result",
          "data": {
            "text/plain": "Index(['sai@gmail.com', 'sai@gmail.com', 'Charan@gmail.com'], dtype='object', name='Email')"
          },
          "metadata": {}
        }
      ],
      "execution_count": 31
    },
    {
      "id": "bd9bcfd8-44c1-429c-89a5-3297d935757a",
      "cell_type": "code",
      "source": "df.sort_index(ascending=False, inplace=True)\ndf",
      "metadata": {
        "trusted": true
      },
      "outputs": [
        {
          "execution_count": 32,
          "output_type": "execute_result",
          "data": {
            "text/plain": "                     Name  Age     City\nEmail                                  \nsai@gmail.com       Alice   25       NY\nsai@gmail.com         Bob   30       LA\nCharan@gmail.com  Charlie   35  Chicago",
            "text/html": "<div>\n<style scoped>\n    .dataframe tbody tr th:only-of-type {\n        vertical-align: middle;\n    }\n\n    .dataframe tbody tr th {\n        vertical-align: top;\n    }\n\n    .dataframe thead th {\n        text-align: right;\n    }\n</style>\n<table border=\"1\" class=\"dataframe\">\n  <thead>\n    <tr style=\"text-align: right;\">\n      <th></th>\n      <th>Name</th>\n      <th>Age</th>\n      <th>City</th>\n    </tr>\n    <tr>\n      <th>Email</th>\n      <th></th>\n      <th></th>\n      <th></th>\n    </tr>\n  </thead>\n  <tbody>\n    <tr>\n      <th>sai@gmail.com</th>\n      <td>Alice</td>\n      <td>25</td>\n      <td>NY</td>\n    </tr>\n    <tr>\n      <th>sai@gmail.com</th>\n      <td>Bob</td>\n      <td>30</td>\n      <td>LA</td>\n    </tr>\n    <tr>\n      <th>Charan@gmail.com</th>\n      <td>Charlie</td>\n      <td>35</td>\n      <td>Chicago</td>\n    </tr>\n  </tbody>\n</table>\n</div>"
          },
          "metadata": {}
        }
      ],
      "execution_count": 32
    },
    {
      "id": "5be19573-0ddc-4e11-b6af-a37ac80ca442",
      "cell_type": "code",
      "source": "df.reset_index(inplace=True)",
      "metadata": {
        "trusted": true
      },
      "outputs": [],
      "execution_count": 33
    },
    {
      "id": "497c7a56-89c3-4394-8465-fddb599f6805",
      "cell_type": "code",
      "source": "df",
      "metadata": {
        "trusted": true
      },
      "outputs": [
        {
          "execution_count": 34,
          "output_type": "execute_result",
          "data": {
            "text/plain": "              Email     Name  Age     City\n0     sai@gmail.com    Alice   25       NY\n1     sai@gmail.com      Bob   30       LA\n2  Charan@gmail.com  Charlie   35  Chicago",
            "text/html": "<div>\n<style scoped>\n    .dataframe tbody tr th:only-of-type {\n        vertical-align: middle;\n    }\n\n    .dataframe tbody tr th {\n        vertical-align: top;\n    }\n\n    .dataframe thead th {\n        text-align: right;\n    }\n</style>\n<table border=\"1\" class=\"dataframe\">\n  <thead>\n    <tr style=\"text-align: right;\">\n      <th></th>\n      <th>Email</th>\n      <th>Name</th>\n      <th>Age</th>\n      <th>City</th>\n    </tr>\n  </thead>\n  <tbody>\n    <tr>\n      <th>0</th>\n      <td>sai@gmail.com</td>\n      <td>Alice</td>\n      <td>25</td>\n      <td>NY</td>\n    </tr>\n    <tr>\n      <th>1</th>\n      <td>sai@gmail.com</td>\n      <td>Bob</td>\n      <td>30</td>\n      <td>LA</td>\n    </tr>\n    <tr>\n      <th>2</th>\n      <td>Charan@gmail.com</td>\n      <td>Charlie</td>\n      <td>35</td>\n      <td>Chicago</td>\n    </tr>\n  </tbody>\n</table>\n</div>"
          },
          "metadata": {}
        }
      ],
      "execution_count": 34
    },
    {
      "id": "6c45e6dd-6832-41e1-a4d8-008c44974e86",
      "cell_type": "code",
      "source": "#Updatinng rows-cols\ndf\n#",
      "metadata": {
        "trusted": true
      },
      "outputs": [
        {
          "execution_count": 35,
          "output_type": "execute_result",
          "data": {
            "text/plain": "              Email     Name  Age     City\n0     sai@gmail.com    Alice   25       NY\n1     sai@gmail.com      Bob   30       LA\n2  Charan@gmail.com  Charlie   35  Chicago",
            "text/html": "<div>\n<style scoped>\n    .dataframe tbody tr th:only-of-type {\n        vertical-align: middle;\n    }\n\n    .dataframe tbody tr th {\n        vertical-align: top;\n    }\n\n    .dataframe thead th {\n        text-align: right;\n    }\n</style>\n<table border=\"1\" class=\"dataframe\">\n  <thead>\n    <tr style=\"text-align: right;\">\n      <th></th>\n      <th>Email</th>\n      <th>Name</th>\n      <th>Age</th>\n      <th>City</th>\n    </tr>\n  </thead>\n  <tbody>\n    <tr>\n      <th>0</th>\n      <td>sai@gmail.com</td>\n      <td>Alice</td>\n      <td>25</td>\n      <td>NY</td>\n    </tr>\n    <tr>\n      <th>1</th>\n      <td>sai@gmail.com</td>\n      <td>Bob</td>\n      <td>30</td>\n      <td>LA</td>\n    </tr>\n    <tr>\n      <th>2</th>\n      <td>Charan@gmail.com</td>\n      <td>Charlie</td>\n      <td>35</td>\n      <td>Chicago</td>\n    </tr>\n  </tbody>\n</table>\n</div>"
          },
          "metadata": {}
        }
      ],
      "execution_count": 35
    },
    {
      "id": "e00d9a43-4f2d-4f7f-b840-5e44273a50de",
      "cell_type": "code",
      "source": "# if we want to change for all the columns names\ndf.columns=['Email','full name', 'Age','City']\ndf.columns",
      "metadata": {
        "trusted": true
      },
      "outputs": [
        {
          "execution_count": 38,
          "output_type": "execute_result",
          "data": {
            "text/plain": "Index(['Email', 'full name', 'Age', 'City'], dtype='object')"
          },
          "metadata": {}
        }
      ],
      "execution_count": 38
    },
    {
      "id": "ceb15e69-2664-4cd7-b6c3-3bd440877820",
      "cell_type": "code",
      "source": "# if we wanted to change for particular column values we use the rename option as \ndf.rename(columns={'full name':'Name','City':'Loc'},inplace=True)\ndf",
      "metadata": {
        "trusted": true
      },
      "outputs": [
        {
          "execution_count": 39,
          "output_type": "execute_result",
          "data": {
            "text/plain": "              Email     Name  Age      Loc\n0     sai@gmail.com    Alice   25       NY\n1     sai@gmail.com      Bob   30       LA\n2  Charan@gmail.com  Charlie   35  Chicago",
            "text/html": "<div>\n<style scoped>\n    .dataframe tbody tr th:only-of-type {\n        vertical-align: middle;\n    }\n\n    .dataframe tbody tr th {\n        vertical-align: top;\n    }\n\n    .dataframe thead th {\n        text-align: right;\n    }\n</style>\n<table border=\"1\" class=\"dataframe\">\n  <thead>\n    <tr style=\"text-align: right;\">\n      <th></th>\n      <th>Email</th>\n      <th>Name</th>\n      <th>Age</th>\n      <th>Loc</th>\n    </tr>\n  </thead>\n  <tbody>\n    <tr>\n      <th>0</th>\n      <td>sai@gmail.com</td>\n      <td>Alice</td>\n      <td>25</td>\n      <td>NY</td>\n    </tr>\n    <tr>\n      <th>1</th>\n      <td>sai@gmail.com</td>\n      <td>Bob</td>\n      <td>30</td>\n      <td>LA</td>\n    </tr>\n    <tr>\n      <th>2</th>\n      <td>Charan@gmail.com</td>\n      <td>Charlie</td>\n      <td>35</td>\n      <td>Chicago</td>\n    </tr>\n  </tbody>\n</table>\n</div>"
          },
          "metadata": {}
        }
      ],
      "execution_count": 39
    },
    {
      "id": "ea7bf989-3c10-4ed4-9f72-d8eba8467e36",
      "cell_type": "code",
      "source": "#df.columns=[ c.upper() for c in df.columns]\ndf",
      "metadata": {
        "trusted": true
      },
      "outputs": [
        {
          "execution_count": 40,
          "output_type": "execute_result",
          "data": {
            "text/plain": "              Email     Name  Age      Loc\n0     sai@gmail.com    Alice   25       NY\n1     sai@gmail.com      Bob   30       LA\n2  Charan@gmail.com  Charlie   35  Chicago",
            "text/html": "<div>\n<style scoped>\n    .dataframe tbody tr th:only-of-type {\n        vertical-align: middle;\n    }\n\n    .dataframe tbody tr th {\n        vertical-align: top;\n    }\n\n    .dataframe thead th {\n        text-align: right;\n    }\n</style>\n<table border=\"1\" class=\"dataframe\">\n  <thead>\n    <tr style=\"text-align: right;\">\n      <th></th>\n      <th>Email</th>\n      <th>Name</th>\n      <th>Age</th>\n      <th>Loc</th>\n    </tr>\n  </thead>\n  <tbody>\n    <tr>\n      <th>0</th>\n      <td>sai@gmail.com</td>\n      <td>Alice</td>\n      <td>25</td>\n      <td>NY</td>\n    </tr>\n    <tr>\n      <th>1</th>\n      <td>sai@gmail.com</td>\n      <td>Bob</td>\n      <td>30</td>\n      <td>LA</td>\n    </tr>\n    <tr>\n      <th>2</th>\n      <td>Charan@gmail.com</td>\n      <td>Charlie</td>\n      <td>35</td>\n      <td>Chicago</td>\n    </tr>\n  </tbody>\n</table>\n</div>"
          },
          "metadata": {}
        }
      ],
      "execution_count": 40
    },
    {
      "id": "61cd989a-230a-48ab-b61e-3c8360cb655e",
      "cell_type": "code",
      "source": "",
      "metadata": {
        "trusted": true
      },
      "outputs": [
        {
          "execution_count": 56,
          "output_type": "execute_result",
          "data": {
            "text/plain": "              Email     Name  Age      Loc\n0     sai@gmail.com    Alice   25       NY\n1     sai@gmail.com      Bob   28       LA\n2  Charan@gmail.com  Charlie   35  Chicago",
            "text/html": "<div>\n<style scoped>\n    .dataframe tbody tr th:only-of-type {\n        vertical-align: middle;\n    }\n\n    .dataframe tbody tr th {\n        vertical-align: top;\n    }\n\n    .dataframe thead th {\n        text-align: right;\n    }\n</style>\n<table border=\"1\" class=\"dataframe\">\n  <thead>\n    <tr style=\"text-align: right;\">\n      <th></th>\n      <th>Email</th>\n      <th>Name</th>\n      <th>Age</th>\n      <th>Loc</th>\n    </tr>\n  </thead>\n  <tbody>\n    <tr>\n      <th>0</th>\n      <td>sai@gmail.com</td>\n      <td>Alice</td>\n      <td>25</td>\n      <td>NY</td>\n    </tr>\n    <tr>\n      <th>1</th>\n      <td>sai@gmail.com</td>\n      <td>Bob</td>\n      <td>28</td>\n      <td>LA</td>\n    </tr>\n    <tr>\n      <th>2</th>\n      <td>Charan@gmail.com</td>\n      <td>Charlie</td>\n      <td>35</td>\n      <td>Chicago</td>\n    </tr>\n  </tbody>\n</table>\n</div>"
          },
          "metadata": {}
        }
      ],
      "execution_count": 56
    },
    {
      "id": "dcf7da8b-2b0d-46df-9500-311c1bbcadea",
      "cell_type": "code",
      "source": "df=df1\ndf1=df\n\n#updating rows\n\n#want to update age of Bob age to 28\n\ndf.loc[1]=['sai@gmail.com','Bob',28,'LA']\t\nprint(df)\n#want to update age of Bob age to 30\ndf.at[1,'Age']=30\nprint(df)\ndf.loc[(df['Email']=='sai@gmail.com')& (df['Name']=='Bob'),'Age']=28\nprint(df)\n\ndf.loc[(df['Email']=='sai@gmail.com') & (df['Name']=='Bob'),['Age','Email']]=[30,'bob@gmail.com']\nprint(df)\n",
      "metadata": {
        "trusted": true
      },
      "outputs": [
        {
          "name": "stdout",
          "output_type": "stream",
          "text": "            Name  Age     City             Email\n0          Alice   25       NY     sai@gmail.com\n1  sai@gmail.com  Bob       28                LA\n2        Charlie   35  Chicago  Charan@gmail.com\n            Name Age     City             Email\n0          Alice  25       NY     sai@gmail.com\n1  sai@gmail.com  30       28                LA\n2        Charlie  35  Chicago  Charan@gmail.com\n            Name Age     City             Email\n0          Alice  25       NY     sai@gmail.com\n1  sai@gmail.com  30       28                LA\n2        Charlie  35  Chicago  Charan@gmail.com\n            Name Age     City             Email\n0          Alice  25       NY     sai@gmail.com\n1  sai@gmail.com  30       28                LA\n2        Charlie  35  Chicago  Charan@gmail.com\n"
        }
      ],
      "execution_count": 72
    },
    {
      "id": "d38e1aa7-cd0a-47fc-9686-9333b412974e",
      "cell_type": "code",
      "source": "df['Email']=df['Email'].str.lower()\ndf",
      "metadata": {
        "trusted": true
      },
      "outputs": [
        {
          "execution_count": 73,
          "output_type": "execute_result",
          "data": {
            "text/plain": "            Name Age     City             Email\n0          Alice  25       NY     sai@gmail.com\n1  sai@gmail.com  30       28                la\n2        Charlie  35  Chicago  charan@gmail.com",
            "text/html": "<div>\n<style scoped>\n    .dataframe tbody tr th:only-of-type {\n        vertical-align: middle;\n    }\n\n    .dataframe tbody tr th {\n        vertical-align: top;\n    }\n\n    .dataframe thead th {\n        text-align: right;\n    }\n</style>\n<table border=\"1\" class=\"dataframe\">\n  <thead>\n    <tr style=\"text-align: right;\">\n      <th></th>\n      <th>Name</th>\n      <th>Age</th>\n      <th>City</th>\n      <th>Email</th>\n    </tr>\n  </thead>\n  <tbody>\n    <tr>\n      <th>0</th>\n      <td>Alice</td>\n      <td>25</td>\n      <td>NY</td>\n      <td>sai@gmail.com</td>\n    </tr>\n    <tr>\n      <th>1</th>\n      <td>sai@gmail.com</td>\n      <td>30</td>\n      <td>28</td>\n      <td>la</td>\n    </tr>\n    <tr>\n      <th>2</th>\n      <td>Charlie</td>\n      <td>35</td>\n      <td>Chicago</td>\n      <td>charan@gmail.com</td>\n    </tr>\n  </tbody>\n</table>\n</div>"
          },
          "metadata": {}
        }
      ],
      "execution_count": 73
    },
    {
      "id": "416df3ba-432a-41d9-8335-5f199385e472",
      "cell_type": "code",
      "source": "# apply map applymap replace\n",
      "metadata": {
        "trusted": true
      },
      "outputs": [],
      "execution_count": null
    }
  ]
}