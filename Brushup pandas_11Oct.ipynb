{
  "metadata": {
    "kernelspec": {
      "name": "python",
      "display_name": "Python (Pyodide)",
      "language": "python"
    },
    "language_info": {
      "codemirror_mode": {
        "name": "python",
        "version": 3
      },
      "file_extension": ".py",
      "mimetype": "text/x-python",
      "name": "python",
      "nbconvert_exporter": "python",
      "pygments_lexer": "ipython3",
      "version": "3.8"
    }
  },
  "nbformat_minor": 5,
  "nbformat": 4,
  "cells": [
    {
      "id": "f366979c-bdb7-449a-8e98-7eba5d4375a7",
      "cell_type": "code",
      "source": "import pandas as pd ",
      "metadata": {
        "trusted": true
      },
      "outputs": [],
      "execution_count": 1
    },
    {
      "id": "a86e0148-66d3-4650-b78f-8f4f6f95b0ca",
      "cell_type": "code",
      "source": "'''Series – like a column in Excel\n\nIt’s a single list of data with an index.\n'''\ndf= pd.Series([10,20,30,40])\nprint(df)\nprint(type(df))\ndf=pd.DataFrame(df)\nprint(df)\nprint(type(df))",
      "metadata": {
        "trusted": true
      },
      "outputs": [
        {
          "name": "stdout",
          "output_type": "stream",
          "text": "0    10\n1    20\n2    30\n3    40\ndtype: int64\n<class 'pandas.core.series.Series'>\n    0\n0  10\n1  20\n2  30\n3  40\n<class 'pandas.core.frame.DataFrame'>\n"
        }
      ],
      "execution_count": 7
    },
    {
      "id": "fdabd647-68b5-4679-8161-362469d3ec0a",
      "cell_type": "code",
      "source": "data ={ \n    'Name' : ['Alice', 'Bob', 'Charlie'],\n    'Age' : [ 25,30,35],\n    'City':['NY','LA','Chicago']\n}",
      "metadata": {
        "trusted": true
      },
      "outputs": [],
      "execution_count": 10
    },
    {
      "id": "2646fe2e-973a-4f04-a8cc-2cfb47303ccb",
      "cell_type": "code",
      "source": "print(type(data))\nprint(data)",
      "metadata": {
        "trusted": true
      },
      "outputs": [
        {
          "name": "stdout",
          "output_type": "stream",
          "text": "<class 'dict'>\n{'Name': ['Alice', 'Bob', 'Charlie'], 'Age': [25, 30, 35], 'City': ['NY', 'LA', 'Chicago']}\n"
        }
      ],
      "execution_count": 13
    },
    {
      "id": "b1641d02-4cf2-4984-9d4d-cd81dfe35929",
      "cell_type": "code",
      "source": "df=pd.DataFrame(data)\nprint(df)\nprint(type(df))",
      "metadata": {
        "trusted": true
      },
      "outputs": [
        {
          "name": "stdout",
          "output_type": "stream",
          "text": "      Name  Age     City\n0    Alice   25       NY\n1      Bob   30       LA\n2  Charlie   35  Chicago\n<class 'pandas.core.frame.DataFrame'>\n"
        }
      ],
      "execution_count": 14
    },
    {
      "id": "d5c3d886-f1bb-4b54-a7a8-9f34cc628fe5",
      "cell_type": "code",
      "source": "#series\ns=df['Name']\nprint(type(s)) #give series \ns=df[['Name']]\nprint(type(s)) # gives DataFrame\n",
      "metadata": {
        "trusted": true
      },
      "outputs": [
        {
          "name": "stdout",
          "output_type": "stream",
          "text": "<class 'pandas.core.frame.DataFrame'>\n"
        }
      ],
      "execution_count": 17
    },
    {
      "id": "f190ea5a-c798-4758-b78f-98d223298dc8",
      "cell_type": "code",
      "source": "df['Age']",
      "metadata": {
        "trusted": true
      },
      "outputs": [
        {
          "execution_count": 18,
          "output_type": "execute_result",
          "data": {
            "text/plain": "0    25\n1    30\n2    35\nName: Age, dtype: int64"
          },
          "metadata": {}
        }
      ],
      "execution_count": 18
    },
    {
      "id": "d4f251f4-c250-4a36-b5ef-98b90dfa99d9",
      "cell_type": "code",
      "source": "df[['Age','City']] ",
      "metadata": {
        "trusted": true
      },
      "outputs": [
        {
          "execution_count": 20,
          "output_type": "execute_result",
          "data": {
            "text/plain": "   Age     City\n0   25       NY\n1   30       LA\n2   35  Chicago",
            "text/html": "<div>\n<style scoped>\n    .dataframe tbody tr th:only-of-type {\n        vertical-align: middle;\n    }\n\n    .dataframe tbody tr th {\n        vertical-align: top;\n    }\n\n    .dataframe thead th {\n        text-align: right;\n    }\n</style>\n<table border=\"1\" class=\"dataframe\">\n  <thead>\n    <tr style=\"text-align: right;\">\n      <th></th>\n      <th>Age</th>\n      <th>City</th>\n    </tr>\n  </thead>\n  <tbody>\n    <tr>\n      <th>0</th>\n      <td>25</td>\n      <td>NY</td>\n    </tr>\n    <tr>\n      <th>1</th>\n      <td>30</td>\n      <td>LA</td>\n    </tr>\n    <tr>\n      <th>2</th>\n      <td>35</td>\n      <td>Chicago</td>\n    </tr>\n  </tbody>\n</table>\n</div>"
          },
          "metadata": {}
        }
      ],
      "execution_count": 20
    },
    {
      "id": "0615110a-f099-4a23-a1aa-bdbf87cc2018",
      "cell_type": "code",
      "source": "#Filter rows (like SQL WHERE):\ns=df['Age'] >28\n\nprint(df[s])\ns=pd.Series([False,False,True])\n\nprint(df[s])\n\ns=pd.Series([False,False,True,True])\nprint(df[s])",
      "metadata": {
        "trusted": true
      },
      "outputs": [
        {
          "name": "stdout",
          "output_type": "stream",
          "text": "      Name  Age     City\n1      Bob   30       LA\n2  Charlie   35  Chicago\n      Name  Age     City\n2  Charlie   35  Chicago\n"
        },
        {
          "name": "stderr",
          "output_type": "stream",
          "text": "<ipython-input-44-4ce81a638dd0>:11: UserWarning: Boolean Series key will be reindexed to match DataFrame index.\n  print(df[s])\n"
        },
        {
          "name": "stdout",
          "output_type": "stream",
          "text": "      Name  Age     City\n2  Charlie   35  Chicago\n"
        }
      ],
      "execution_count": 44
    },
    {
      "id": "7a4cb7f5-636b-4fba-bf7b-b869fe4aa1d2",
      "cell_type": "code",
      "source": "df[df['Age']>28]",
      "metadata": {
        "trusted": true
      },
      "outputs": [
        {
          "execution_count": 49,
          "output_type": "execute_result",
          "data": {
            "text/plain": "      Name  Age     City\n1      Bob   30       LA\n2  Charlie   35  Chicago",
            "text/html": "<div>\n<style scoped>\n    .dataframe tbody tr th:only-of-type {\n        vertical-align: middle;\n    }\n\n    .dataframe tbody tr th {\n        vertical-align: top;\n    }\n\n    .dataframe thead th {\n        text-align: right;\n    }\n</style>\n<table border=\"1\" class=\"dataframe\">\n  <thead>\n    <tr style=\"text-align: right;\">\n      <th></th>\n      <th>Name</th>\n      <th>Age</th>\n      <th>City</th>\n    </tr>\n  </thead>\n  <tbody>\n    <tr>\n      <th>1</th>\n      <td>Bob</td>\n      <td>30</td>\n      <td>LA</td>\n    </tr>\n    <tr>\n      <th>2</th>\n      <td>Charlie</td>\n      <td>35</td>\n      <td>Chicago</td>\n    </tr>\n  </tbody>\n</table>\n</div>"
          },
          "metadata": {}
        }
      ],
      "execution_count": 49
    },
    {
      "id": "f87f0b96-e5ed-4043-ab67-c12c4c8cfef2",
      "cell_type": "code",
      "source": "df[df['Name']=='Bob']\ndf.loc[df['Name']!='Bob'] ",
      "metadata": {
        "trusted": true
      },
      "outputs": [
        {
          "execution_count": 56,
          "output_type": "execute_result",
          "data": {
            "text/plain": "      Name  Age     City\n0    Alice   25       NY\n2  Charlie   35  Chicago",
            "text/html": "<div>\n<style scoped>\n    .dataframe tbody tr th:only-of-type {\n        vertical-align: middle;\n    }\n\n    .dataframe tbody tr th {\n        vertical-align: top;\n    }\n\n    .dataframe thead th {\n        text-align: right;\n    }\n</style>\n<table border=\"1\" class=\"dataframe\">\n  <thead>\n    <tr style=\"text-align: right;\">\n      <th></th>\n      <th>Name</th>\n      <th>Age</th>\n      <th>City</th>\n    </tr>\n  </thead>\n  <tbody>\n    <tr>\n      <th>0</th>\n      <td>Alice</td>\n      <td>25</td>\n      <td>NY</td>\n    </tr>\n    <tr>\n      <th>2</th>\n      <td>Charlie</td>\n      <td>35</td>\n      <td>Chicago</td>\n    </tr>\n  </tbody>\n</table>\n</div>"
          },
          "metadata": {}
        }
      ],
      "execution_count": 56
    },
    {
      "id": "4c2273ce-8032-4cc9-9837-fad335fa1d43",
      "cell_type": "code",
      "source": "df.loc[(df['Name']!='Bob'),['Name','Age']]# For Loc - first value is filter , other values are column names",
      "metadata": {
        "trusted": true
      },
      "outputs": [
        {
          "execution_count": 60,
          "output_type": "execute_result",
          "data": {
            "text/plain": "      Name  Age\n0    Alice   25\n2  Charlie   35",
            "text/html": "<div>\n<style scoped>\n    .dataframe tbody tr th:only-of-type {\n        vertical-align: middle;\n    }\n\n    .dataframe tbody tr th {\n        vertical-align: top;\n    }\n\n    .dataframe thead th {\n        text-align: right;\n    }\n</style>\n<table border=\"1\" class=\"dataframe\">\n  <thead>\n    <tr style=\"text-align: right;\">\n      <th></th>\n      <th>Name</th>\n      <th>Age</th>\n    </tr>\n  </thead>\n  <tbody>\n    <tr>\n      <th>0</th>\n      <td>Alice</td>\n      <td>25</td>\n    </tr>\n    <tr>\n      <th>2</th>\n      <td>Charlie</td>\n      <td>35</td>\n    </tr>\n  </tbody>\n</table>\n</div>"
          },
          "metadata": {}
        }
      ],
      "execution_count": 60
    },
    {
      "id": "2bff5a52-9807-4895-a43b-66638cb78f16",
      "cell_type": "code",
      "source": "#multiple conditon  -with logical operators (&,|,~)\n\ndf\n\ndf[ ~(df['Name']=='Bob') & (df['Age']<=30) |(df['City']=='Ny')]",
      "metadata": {
        "trusted": true
      },
      "outputs": [
        {
          "execution_count": 96,
          "output_type": "execute_result",
          "data": {
            "text/plain": "    Name  Age City\n0  Alice   25   NY",
            "text/html": "<div>\n<style scoped>\n    .dataframe tbody tr th:only-of-type {\n        vertical-align: middle;\n    }\n\n    .dataframe tbody tr th {\n        vertical-align: top;\n    }\n\n    .dataframe thead th {\n        text-align: right;\n    }\n</style>\n<table border=\"1\" class=\"dataframe\">\n  <thead>\n    <tr style=\"text-align: right;\">\n      <th></th>\n      <th>Name</th>\n      <th>Age</th>\n      <th>City</th>\n    </tr>\n  </thead>\n  <tbody>\n    <tr>\n      <th>0</th>\n      <td>Alice</td>\n      <td>25</td>\n      <td>NY</td>\n    </tr>\n  </tbody>\n</table>\n</div>"
          },
          "metadata": {}
        }
      ],
      "execution_count": 96
    },
    {
      "id": "5b7f21da-20e7-4afc-8ca3-da06efc3b2b5",
      "cell_type": "code",
      "source": "df.loc[<row_condition>, <columns_to_return>].sort_values(by=<column>, ascending=<True/False>)\n",
      "metadata": {
        "trusted": true
      },
      "outputs": [],
      "execution_count": null
    },
    {
      "id": "e28b65dc-f949-4407-ab03-d0e853aaf847",
      "cell_type": "code",
      "source": "df.loc[~(df['Name']=='Bob'),['Name','Age']].sort_values(by='Age',ascending= False)",
      "metadata": {
        "trusted": true
      },
      "outputs": [
        {
          "execution_count": 101,
          "output_type": "execute_result",
          "data": {
            "text/plain": "      Name  Age\n2  Charlie   35\n0    Alice   25",
            "text/html": "<div>\n<style scoped>\n    .dataframe tbody tr th:only-of-type {\n        vertical-align: middle;\n    }\n\n    .dataframe tbody tr th {\n        vertical-align: top;\n    }\n\n    .dataframe thead th {\n        text-align: right;\n    }\n</style>\n<table border=\"1\" class=\"dataframe\">\n  <thead>\n    <tr style=\"text-align: right;\">\n      <th></th>\n      <th>Name</th>\n      <th>Age</th>\n    </tr>\n  </thead>\n  <tbody>\n    <tr>\n      <th>2</th>\n      <td>Charlie</td>\n      <td>35</td>\n    </tr>\n    <tr>\n      <th>0</th>\n      <td>Alice</td>\n      <td>25</td>\n    </tr>\n  </tbody>\n</table>\n</div>"
          },
          "metadata": {}
        }
      ],
      "execution_count": 101
    },
    {
      "id": "c5d912c4-25be-4fcf-97ce-3503133223d1",
      "cell_type": "code",
      "source": "df.iloc[0,[1,2]]",
      "metadata": {
        "trusted": true
      },
      "outputs": [
        {
          "execution_count": 106,
          "output_type": "execute_result",
          "data": {
            "text/plain": "Age     25\nCity    NY\nName: 0, dtype: object"
          },
          "metadata": {}
        }
      ],
      "execution_count": 106
    },
    {
      "id": "b4fb9672-318a-4271-b373-c6d87e72921e",
      "cell_type": "code",
      "source": "",
      "metadata": {
        "trusted": true
      },
      "outputs": [],
      "execution_count": null
    }
  ]
}